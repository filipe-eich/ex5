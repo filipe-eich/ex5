{
 "cells": [
  {
   "cell_type": "code",
   "execution_count": 14,
   "id": "448c25c0-2634-48ab-96d9-cd63a23aee65",
   "metadata": {},
   "outputs": [
    {
     "data": {
      "text/plain": [
       "'\\nPrograma: calc_horas\\nDescrição: Este programa calcula salario bruto, salario liquido e total de descontos para um prof. horista\\nAutor: Filipe Eich\\nData: 25/02/2025\\nVersao: 0.0.1\\n'"
      ]
     },
     "execution_count": 14,
     "metadata": {},
     "output_type": "execute_result"
    }
   ],
   "source": [
    "\"\"\"\n",
    "Programa: calc_horas\n",
    "Descrição: Este programa calcula salario bruto, salario liquido e total de descontos para um prof. horista\n",
    "Autor: Filipe Eich\n",
    "Data: 25/02/2025\n",
    "Versao: 0.0.1\n",
    "\"\"\"\n"
   ]
  },
  {
   "cell_type": "code",
   "execution_count": 16,
   "id": "894fd8a0-64c7-4b54-8659-5d44615f515f",
   "metadata": {},
   "outputs": [],
   "source": [
    "#Alocaçao de memoria\n",
    "\n",
    "horas=\"\"\n",
    "bruto=\"\"\n",
    "desc=\"\"\n",
    "liq=\"\"\n",
    "\n",
    "\n",
    "#preencher as demais variáveis que eu for usando"
   ]
  },
  {
   "cell_type": "code",
   "execution_count": 20,
   "id": "69533df8-fc7f-49b8-b32f-92411efd25d3",
   "metadata": {
    "scrolled": true
   },
   "outputs": [
    {
     "name": "stdin",
     "output_type": "stream",
     "text": [
      "\n",
      "Olá! Vamos calcular o salário para algum Professor de sua escolha? Digite as horas trabalhadas: 10\n"
     ]
    }
   ],
   "source": [
    "#Entrada de dados\n",
    "\n",
    "horas = float(input(\"\\nOlá! Vamos calcular o salário para algum Professor de sua escolha? Digite as horas trabalhadas:\"))\n",
    "\n"
   ]
  },
  {
   "cell_type": "code",
   "execution_count": 40,
   "id": "9ec6182e-f888-4622-8308-4ecf55fffcc7",
   "metadata": {},
   "outputs": [],
   "source": [
    "# Processamento de dados\n",
    "\n",
    "bruto = 40*horas\n",
    "desc=0.3*bruto\n",
    "\n",
    "liq = bruto - desc\n"
   ]
  },
  {
   "cell_type": "code",
   "execution_count": 51,
   "id": "23ca565b-9252-4690-983f-980220c1d4f4",
   "metadata": {},
   "outputs": [
    {
     "name": "stdout",
     "output_type": "stream",
     "text": [
      "\n",
      "Ok! Seguem os valores correspondentes à remuneração deste Professor,\n",
      "\n",
      "Salário Bruto: R$400.0\n",
      "\n",
      "Descontos: R$120.0\n",
      "\n",
      "Salário Líquido: R$280.0\n"
     ]
    }
   ],
   "source": [
    "#Saida de dados\n",
    "\n",
    "\n",
    "print(f\"\\nOk! Seguem os valores correspondentes à remuneração deste Professor,\\n\\nSalário Bruto: R${bruto}\\n\\nDescontos: R${desc}\\n\\nSalário Líquido: R${liq}\")\n",
    "\n",
    "\n",
    "\n"
   ]
  },
  {
   "cell_type": "code",
   "execution_count": null,
   "id": "5963554e-b214-463f-820b-86e8ba70fe6c",
   "metadata": {},
   "outputs": [],
   "source": []
  }
 ],
 "metadata": {
  "kernelspec": {
   "display_name": "Python [conda env:base] *",
   "language": "python",
   "name": "conda-base-py"
  },
  "language_info": {
   "codemirror_mode": {
    "name": "ipython",
    "version": 3
   },
   "file_extension": ".py",
   "mimetype": "text/x-python",
   "name": "python",
   "nbconvert_exporter": "python",
   "pygments_lexer": "ipython3",
   "version": "3.12.7"
  }
 },
 "nbformat": 4,
 "nbformat_minor": 5
}
